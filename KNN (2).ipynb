{
 "cells": [
  {
   "cell_type": "markdown",
   "metadata": {},
   "source": [
    "Page toward data science sur le KNN présente tte la recommendation super bien donc à relire bcp\n",
    "\n",
    "\n",
    "(long tail ...)"
   ]
  },
  {
   "cell_type": "code",
   "execution_count": 1,
   "metadata": {},
   "outputs": [],
   "source": [
    "from sklearn.neighbors import NearestNeighbors\n",
    "import numpy as np\n",
    "import numpy.random as rd\n",
    "import matplotlib.pyplot as plt"
   ]
  },
  {
   "cell_type": "markdown",
   "metadata": {},
   "source": [
    "## Exemple d'utilisation :"
   ]
  },
  {
   "cell_type": "markdown",
   "metadata": {},
   "source": [
    "In the following example, we construct a NeighborsClassifier class from an array representing our data set and ask who’s the closest point to [1,1,1]"
   ]
  },
  {
   "cell_type": "code",
   "execution_count": 2,
   "metadata": {},
   "outputs": [
    {
     "name": "stdout",
     "output_type": "stream",
     "text": [
      "(array([[0.5]]), array([[2]], dtype=int64))\n"
     ]
    }
   ],
   "source": [
    "samples = [[0., 0., 0.], [0., .5, 0.], [1., 1., .5]]\n",
    "from sklearn.neighbors import NearestNeighbors\n",
    "neigh = NearestNeighbors(n_neighbors=1)\n",
    "neigh.fit(samples) \n",
    "NearestNeighbors(algorithm='auto', leaf_size=30)\n",
    "print( neigh.kneighbors([[1., 1., 1.]]))\n"
   ]
  },
  {
   "cell_type": "markdown",
   "metadata": {},
   "source": [
    "As you can see, it returns [[0.5]], and [[2]], which means that the element is at distance 0.5 and is the third element of samples (indexes start at 0). You can also query for multiple points:"
   ]
  },
  {
   "cell_type": "code",
   "execution_count": 3,
   "metadata": {},
   "outputs": [
    {
     "data": {
      "text/plain": [
       "array([[1],\n",
       "       [2]], dtype=int64)"
      ]
     },
     "execution_count": 3,
     "metadata": {},
     "output_type": "execute_result"
    }
   ],
   "source": [
    "X = [[0., 1., 0.], [1., 0., 1.]]\n",
    "neigh.kneighbors(X, return_distance=False)"
   ]
  },
  {
   "cell_type": "markdown",
   "metadata": {},
   "source": [
    "## Application à la recommendation"
   ]
  },
  {
   "cell_type": "markdown",
   "metadata": {},
   "source": [
    "## Testons sur une matrice réelle : dataset de Kaggle"
   ]
  },
  {
   "cell_type": "code",
   "execution_count": 2,
   "metadata": {},
   "outputs": [
    {
     "name": "stdout",
     "output_type": "stream",
     "text": [
      "  userID  placeID  rating  food_rating  service_rating\n",
      "0  U1077   135085       2            2               2\n",
      "1  U1077   135038       2            2               1\n",
      "2  U1077   132825       2            2               2\n",
      "3  U1077   135060       1            2               2\n",
      "4  U1068   135104       1            1               2\n"
     ]
    }
   ],
   "source": [
    "import pandas as pd\n",
    "\n",
    "dataset = pd.read_csv(\"datatset_restaurant.csv\")\n",
    "print(dataset.head())"
   ]
  },
  {
   "cell_type": "code",
   "execution_count": 3,
   "metadata": {},
   "outputs": [],
   "source": [
    "def to_matrice(dataset):\n",
    "    # marche pour un dataset avec notes entre 0 et note max\n",
    "    # à adapter sinon\n",
    "    \n",
    "    user = dataset.iloc[:, 0]\n",
    "    item = dataset.iloc[:, 1]\n",
    "\n",
    "    utile = dataset.iloc[:, 0:3]\n",
    "    data_array = utile.get_values()  # to_numpy devient get_values sur python 3\n",
    "\n",
    "    user_dict = {}\n",
    "    for k in range(data_array.shape[0]):\n",
    "        user_dict[data_array[k][0]] = data_array[k][1]\n",
    "    nb_user = len(user_dict)\n",
    "\n",
    "    item_dict = {}\n",
    "    for k in range(data_array.shape[0]):\n",
    "        item_dict[data_array[k][1]] = data_array[k][0]\n",
    "    nb_item = len(item_dict)\n",
    "\n",
    "    nb_ratings = data_array.shape[0]\n",
    "    pourc = round(100 * nb_ratings / (nb_user * nb_item), 2)\n",
    "\n",
    "    print(\"Il y a \", nb_user, \" utilisateurs et \", nb_item, \"plats et \", nb_ratings, \"notes, soit une matrice \", pourc,\n",
    "          \"% pleine.\")\n",
    "\n",
    "    # Matrice note\n",
    "\n",
    "    # on commence par remplir une matrice avec que des zeros ou des -1, à voir\n",
    "    M = np.zeros((nb_user, nb_ratings))\n",
    "\n",
    "    # Il faut maintenant réindexer\n",
    "    # Stratégie :\n",
    "\n",
    "    index = 0\n",
    "    for cle in user_dict.keys():\n",
    "        user_dict[cle] = index\n",
    "        index += 1\n",
    "\n",
    "    index = 0\n",
    "    for cle in item_dict.keys():\n",
    "        item_dict[cle] = index\n",
    "        index += 1\n",
    "\n",
    "    for x in data_array:\n",
    "        user = user_dict.get(x[0])\n",
    "        item = item_dict.get(x[1])\n",
    "        rating = x[2]\n",
    "        M[user][item] = rating + 1  # je fais donc des notes de 1 à 3 et on laisse 0 pour les non notés\n",
    "\n",
    "    return M"
   ]
  },
  {
   "cell_type": "code",
   "execution_count": 4,
   "metadata": {},
   "outputs": [
    {
     "name": "stdout",
     "output_type": "stream",
     "text": [
      "Il y a  138  utilisateurs et  130 plats et  1161 notes, soit une matrice  6.47 % pleine.\n"
     ]
    }
   ],
   "source": [
    "data=to_matrice(dataset)"
   ]
  },
  {
   "cell_type": "code",
   "execution_count": 7,
   "metadata": {},
   "outputs": [],
   "source": [
    "def knn (data, num_plat, nb_rec):\n",
    "    model = NearestNeighbors(metric='cosine', algorithm='brute', n_neighbors=nb_rec+1, n_jobs=-1)\n",
    "# voir pq on a choisi la distance cosine\n",
    "    model.fit(data)\n",
    "    distances, indices = model.kneighbors(data[num_plat:num_plat+1,:] , n_neighbors=nb_rec+1)\n",
    "    raw_recommends = sorted(list(zip(indices.squeeze().tolist(),distances.squeeze().tolist())),key=lambda x: x[1])[:0:-1]\n",
    "    raw_recommends.reverse()\n",
    "    k=0\n",
    "    for couple in raw_recommends : \n",
    "        k+=1\n",
    "        print( \"recommendation numéro \", k, \" : plat numéro \" , couple[0])"
   ]
  },
  {
   "cell_type": "code",
   "execution_count": 8,
   "metadata": {},
   "outputs": [
    {
     "name": "stdout",
     "output_type": "stream",
     "text": [
      "recommendation numéro  1  : plat numéro  3\n",
      "recommendation numéro  2  : plat numéro  1\n",
      "recommendation numéro  3  : plat numéro  132\n",
      "recommendation numéro  4  : plat numéro  130\n",
      "recommendation numéro  5  : plat numéro  129\n",
      "recommendation numéro  6  : plat numéro  28\n",
      "recommendation numéro  7  : plat numéro  2\n",
      "recommendation numéro  8  : plat numéro  6\n",
      "recommendation numéro  9  : plat numéro  8\n",
      "recommendation numéro  10  : plat numéro  9\n"
     ]
    }
   ],
   "source": [
    "knn(data,12,10)"
   ]
  },
  {
   "cell_type": "markdown",
   "metadata": {},
   "source": [
    "# A la mano :"
   ]
  },
  {
   "cell_type": "code",
   "execution_count": 5,
   "metadata": {},
   "outputs": [],
   "source": [
    "def table_distance(M,num_col):\n",
    "    j=num_col\n",
    "    distance=[]\n",
    "    #distance est une liste de couple (distance a la colone \"num_col\", numéro de la colonne)\n",
    "    for k in range(M.shape[1]) :\n",
    "        distance.append((1-np.vdot(M.T[j],M.T[k])/(np.linalg.norm(M.T[j])*np.linalg.norm(M.T[k])),k))\n",
    "    distance=sorted(distance)\n",
    "    return distance\n",
    "\n",
    "\n",
    "def KNN_voisins (M,item,K):\n",
    "    if K >= M.shape[1] :\n",
    "        raise Exception (\"Vous demandez plus de voisins qu'il n'y a d'item dans la matrice de départ\")\n",
    "    distance=table_distance(M,item)\n",
    "    for k in range(1, K+1): # on enlève le premier qui correspond à lui meme\n",
    "        print(k, \" : item numéro \",distance[k][1], \" -----  distance de : \", distance[k][0])\n",
    "\n",
    "\n",
    "\n",
    "def KNN_note(M,item,K,user):\n",
    "    if M[user][item] !=0 :\n",
    "        return M[user][item]\n",
    "    distance = table_distance(M, item)\n",
    "    note=0\n",
    "    non_nul=K-1\n",
    "    print (\"les items les plus proches, notés par cet utilisateur, sont : \")  \n",
    "    for k in range(1,K):\n",
    "        num_voisin= distance[k][1]\n",
    "        note_voisin=M[user][num_voisin]\n",
    "        if note_voisin == 0 :\n",
    "            non_nul-=1\n",
    "        else :\n",
    "            print(\"item numéro \", num_voisin, \"avec une note de \", note_voisin)\n",
    "            note+=note_voisin     \n",
    "    return note/non_nul\n",
    "\n",
    "\n",
    "def KNN_remplissage(M,K):\n",
    "    for user in range(M.shape[0]):\n",
    "        print(\"etape \", user, \" sur \", M.shape[0])\n",
    "        for item in range(M.shape[1]):\n",
    "            if M[user][item] == 0:\n",
    "                note=KNN_note(M,item,K,user)\n",
    "                M[user][item]=note\n",
    "    return M\n",
    "\n"
   ]
  },
  {
   "cell_type": "markdown",
   "metadata": {},
   "source": [
    "## Matrice cas limite"
   ]
  },
  {
   "cell_type": "code",
   "execution_count": 57,
   "metadata": {},
   "outputs": [
    {
     "name": "stdout",
     "output_type": "stream",
     "text": [
      "[[0. 5. 5. ... 0. 1. 0.]\n",
      " [5. 0. 0. ... 1. 1. 1.]\n",
      " [0. 0. 0. ... 1. 0. 0.]\n",
      " ...\n",
      " [0. 1. 1. ... 5. 5. 0.]\n",
      " [0. 1. 1. ... 5. 5. 0.]\n",
      " [0. 1. 1. ... 5. 5. 0.]]\n"
     ]
    }
   ],
   "source": [
    "M = rd.random((10001,1001))\n",
    "#on fait d'abord une matrice vide à 30%\n",
    "n,m = M.shape\n",
    "for i in range (n):\n",
    "    for j in range(m):\n",
    "        if M[i][j]<.3:\n",
    "            M[i][j]=0\n",
    "        else : \n",
    "            M[i][j]=1\n",
    "\n",
    "#on met des 1 et des 5 par blocs\n",
    "for i in range (n//2+1) : \n",
    "    for j in range (m//2+1) :\n",
    "        if M[i][j]==1:\n",
    "            M[i][j]=5\n",
    "            \n",
    "for i in range (n//2+1,n) : \n",
    "    for j in range (m//2+1,m) :\n",
    "        if M[i][j]==1:\n",
    "            M[i][j]=5\n",
    "            \n",
    "print (M)"
   ]
  },
  {
   "cell_type": "code",
   "execution_count": 58,
   "metadata": {},
   "outputs": [],
   "source": [
    "item=0\n",
    "user=0\n",
    "K=15"
   ]
  },
  {
   "cell_type": "code",
   "execution_count": 59,
   "metadata": {},
   "outputs": [
    {
     "name": "stdout",
     "output_type": "stream",
     "text": [
      "les items les plus proches, notés par cet utilisateur, sont : \n",
      "item numéro  7 avec une note de  5.0\n",
      "item numéro  274 avec une note de  5.0\n",
      "item numéro  114 avec une note de  5.0\n",
      "item numéro  324 avec une note de  5.0\n",
      "item numéro  439 avec une note de  5.0\n",
      "item numéro  244 avec une note de  5.0\n"
     ]
    },
    {
     "data": {
      "text/plain": [
       "5.0"
      ]
     },
     "execution_count": 59,
     "metadata": {},
     "output_type": "execute_result"
    }
   ],
   "source": [
    "KNN_note(M,item,K,user)"
   ]
  },
  {
   "cell_type": "markdown",
   "metadata": {},
   "source": [
    "## Dataset de Kaggle"
   ]
  },
  {
   "cell_type": "code",
   "execution_count": 9,
   "metadata": {},
   "outputs": [],
   "source": [
    "M=data"
   ]
  },
  {
   "cell_type": "code",
   "execution_count": 10,
   "metadata": {},
   "outputs": [
    {
     "name": "stdout",
     "output_type": "stream",
     "text": [
      "[[3. 3. 3. ... 0. 0. 0.]\n",
      " [0. 0. 0. ... 0. 0. 0.]\n",
      " [0. 0. 0. ... 0. 0. 0.]\n",
      " ...\n",
      " [0. 0. 0. ... 0. 0. 0.]\n",
      " [0. 0. 0. ... 0. 0. 0.]\n",
      " [0. 0. 0. ... 0. 0. 0.]]\n"
     ]
    }
   ],
   "source": [
    "print(M)"
   ]
  },
  {
   "cell_type": "code",
   "execution_count": 15,
   "metadata": {},
   "outputs": [],
   "source": [
    "item=0\n",
    "user=1\n",
    "K=300"
   ]
  },
  {
   "cell_type": "code",
   "execution_count": 16,
   "metadata": {},
   "outputs": [
    {
     "name": "stdout",
     "output_type": "stream",
     "text": [
      "les items les plus proches, notés par cet utilisateur, sont : \n",
      "item numéro  4 avec une note de  2.0\n",
      "item numéro  5 avec une note de  1.0\n",
      "item numéro  6 avec une note de  2.0\n",
      "item numéro  7 avec une note de  1.0\n",
      "item numéro  8 avec une note de  2.0\n",
      "item numéro  10 avec une note de  2.0\n",
      "item numéro  14 avec une note de  1.0\n",
      "item numéro  23 avec une note de  2.0\n"
     ]
    },
    {
     "name": "stderr",
     "output_type": "stream",
     "text": [
      "C:\\Users\\danbe\\Anaconda3\\lib\\site-packages\\ipykernel_launcher.py:6: RuntimeWarning: invalid value encountered in double_scalars\n",
      "  \n"
     ]
    },
    {
     "data": {
      "text/plain": [
       "1.625"
      ]
     },
     "execution_count": 16,
     "metadata": {},
     "output_type": "execute_result"
    }
   ],
   "source": [
    "KNN_note(M,item,K,user)"
   ]
  },
  {
   "cell_type": "markdown",
   "metadata": {},
   "source": [
    "## Etude plus poussée avec le dataset"
   ]
  },
  {
   "cell_type": "markdown",
   "metadata": {},
   "source": [
    "### Plot note en fonction de K"
   ]
  },
  {
   "cell_type": "code",
   "execution_count": 24,
   "metadata": {},
   "outputs": [],
   "source": [
    "def KNN_note_2(M,item,K,user):\n",
    "    distance = table_distance(M, item)\n",
    "    note=0\n",
    "    non_nul=K-1\n",
    "    for k in range(1,K):\n",
    "        num_voisin= distance[k][1]\n",
    "        note_voisin=M[user][num_voisin]\n",
    "        if note_voisin == 0 :\n",
    "            non_nul-=1\n",
    "        else :\n",
    "            note+=note_voisin \n",
    "    if non_nul!=0:\n",
    "        return note/non_nul\n",
    "    else :\n",
    "        return 0"
   ]
  },
  {
   "cell_type": "code",
   "execution_count": 25,
   "metadata": {},
   "outputs": [],
   "source": [
    "item=0\n",
    "user=1"
   ]
  },
  {
   "cell_type": "code",
   "execution_count": 26,
   "metadata": {},
   "outputs": [
    {
     "data": {
      "image/png": "[encoded data removed]",
      "text/plain": [
       "<Figure size 432x288 with 1 Axes>"
      ]
     },
     "metadata": {
      "needs_background": "light"
     },
     "output_type": "display_data"
    },
    {
     "data": {
      "image/png": "[encoded data removed]",
      "text/plain": [
       "<Figure size 432x288 with 1 Axes>"
      ]
     },
     "metadata": {
      "needs_background": "light"
     },
     "output_type": "display_data"
    }
   ],
   "source": [
    "K_liste=[]\n",
    "note_liste=[]\n",
    "for K in range (1,500,1):\n",
    "    K_liste.append(K)\n",
    "    note_liste.append(KNN_note_2(M,item,K,user))\n",
    "    \n",
    "plt.plot(K_liste,note_liste)\n",
    "plt.xlabel(\"valeur de K (nombre de voisins)\")\n",
    "plt.ylabel(\"note prédite\")\n",
    "plt.title(\"Note prédite pour le couple (user,item)=(1,0) selon les valeurs de K\")\n",
    "plt.show()\n",
    "\n",
    "K_liste=[]\n",
    "note_liste=[]\n",
    "for K in range (65,85,1):\n",
    "    K_liste.append(K)\n",
    "    note_liste.append(KNN_note_2(M,item,K,user))\n",
    "    \n",
    "plt.plot(K_liste,note_liste)\n",
    "plt.xlabel(\"valeur de K (nombre de voisins)\")\n",
    "plt.ylabel(\"note prédite\")\n",
    "plt.title(\"Note prédite pour le couple (user,item)=(1,0) selon les valeurs de K\")\n",
    "plt.show()"
   ]
  },
  {
   "cell_type": "code",
   "execution_count": 27,
   "metadata": {},
   "outputs": [
    {
     "name": "stdout",
     "output_type": "stream",
     "text": [
      "[[5. 5. 5. ... 1. 1. 1.]\n",
      " [5. 0. 5. ... 1. 1. 0.]\n",
      " [5. 5. 0. ... 0. 0. 1.]\n",
      " ...\n",
      " [0. 1. 1. ... 0. 0. 5.]\n",
      " [1. 0. 1. ... 0. 5. 5.]\n",
      " [1. 0. 1. ... 5. 5. 5.]]\n"
     ]
    }
   ],
   "source": [
    "M = rd.random((10001,1001))\n",
    "#on fait d'abord une matrice vide à 30%\n",
    "n,m = M.shape\n",
    "for i in range (n):\n",
    "    for j in range(m):\n",
    "        if M[i][j]<.3:\n",
    "            M[i][j]=0\n",
    "        else : \n",
    "            M[i][j]=1\n",
    "\n",
    "#on met des 1 et des 5 par blocs\n",
    "for i in range (n//2+1) : \n",
    "    for j in range (m//2+1) :\n",
    "        if M[i][j]==1:\n",
    "            M[i][j]=5\n",
    "            \n",
    "for i in range (n//2+1,n) : \n",
    "    for j in range (m//2+1,m) :\n",
    "        if M[i][j]==1:\n",
    "            M[i][j]=5\n",
    "            \n",
    "print (M)"
   ]
  },
  {
   "cell_type": "code",
   "execution_count": 28,
   "metadata": {},
   "outputs": [],
   "source": [
    "user = 1\n",
    "item = 1"
   ]
  },
  {
   "cell_type": "code",
   "execution_count": 31,
   "metadata": {},
   "outputs": [
    {
     "data": {
      "image/png": "[encoded data removed]",
      "text/plain": [
       "<Figure size 432x288 with 1 Axes>"
      ]
     },
     "metadata": {
      "needs_background": "light"
     },
     "output_type": "display_data"
    },
    {
     "data": {
      "image/png": "[encoded data removed]",
      "text/plain": [
       "<Figure size 432x288 with 1 Axes>"
      ]
     },
     "metadata": {
      "needs_background": "light"
     },
     "output_type": "display_data"
    }
   ],
   "source": [
    "K_liste=[]\n",
    "note_liste=[]\n",
    "for K in range (1,50,1):\n",
    "    K_liste.append(K)\n",
    "    note_liste.append(KNN_note_2(M,item,K,user))\n",
    "    \n",
    "plt.plot(K_liste,note_liste)\n",
    "plt.xlabel(\"valeur de K (nombre de voisins)\")\n",
    "plt.ylabel(\"note prédite\")\n",
    "plt.title(\"Note prédite pour le couple (user,item)=(1,0) selon les valeurs de K\")\n",
    "plt.show()\n",
    "\n",
    "K_liste=[]\n",
    "note_liste=[]\n",
    "for K in range (400,600,1):\n",
    "    K_liste.append(K)\n",
    "    note_liste.append(KNN_note_2(M,item,K,user))\n",
    "    \n",
    "plt.plot(K_liste,note_liste)\n",
    "plt.xlabel(\"valeur de K (nombre de voisins)\")\n",
    "plt.ylabel(\"note prédite\")\n",
    "plt.title(\"Note prédite pour le couple (user,item)=(1,0) selon les valeurs de K\")\n",
    "plt.show()"
   ]
  },
  {
   "cell_type": "code",
   "execution_count": null,
   "metadata": {},
   "outputs": [],
   "source": []
  },
  {
   "cell_type": "code",
   "execution_count": null,
   "metadata": {},
   "outputs": [],
   "source": []
  },
  {
   "cell_type": "code",
   "execution_count": 7,
   "metadata": {},
   "outputs": [],
   "source": [
    "def KNN_note_bis(M,item,K,user):\n",
    "    distance = table_distance(M, item)\n",
    "    note=0\n",
    "    non_nul=K-1 \n",
    "    for k in range(1,K):\n",
    "        num_voisin= distance[k][1]\n",
    "        note_voisin=M[user][num_voisin]\n",
    "        if note_voisin == 0 :\n",
    "            non_nul-=1\n",
    "        else :\n",
    "            note+=note_voisin     \n",
    "    if non_nul==0:\n",
    "        return False\n",
    "    else :\n",
    "        return True"
   ]
  },
  {
   "cell_type": "markdown",
   "metadata": {},
   "source": [
    "Rappel : Il y a  138  utilisateurs et  130 plats et  1161 notes, soit une matrice  6.47 % pleine."
   ]
  },
  {
   "cell_type": "code",
   "execution_count": 8,
   "metadata": {},
   "outputs": [],
   "source": [
    "def correct(M,K):\n",
    "    p=0\n",
    "    n,m=M.shape\n",
    "    n_tot=0\n",
    "    for user in range(n):\n",
    "        for item in range(m):\n",
    "            x=rd.random()\n",
    "            if x>.8:\n",
    "                n_tot+=1\n",
    "                if KNN_note_bis(M,item,K,user) : \n",
    "                    p+=1\n",
    "\n",
    "    return p/n_tot "
   ]
  },
  {
   "cell_type": "code",
   "execution_count": null,
   "metadata": {},
   "outputs": [
    {
     "name": "stderr",
     "output_type": "stream",
     "text": [
      "C:\\Users\\danbe\\Anaconda3\\lib\\site-packages\\ipykernel_launcher.py:6: RuntimeWarning: invalid value encountered in double_scalars\n",
      "  \n"
     ]
    }
   ],
   "source": [
    "K_liste=[]\n",
    "p_liste=[]\n",
    "for K in range(1,500,10):\n",
    "    K_liste.append(K)\n",
    "    p_liste.append(correct(M,K))\n",
    "\n",
    "plt.plot(K_liste,p_liste)\n",
    "plt.show()"
   ]
  },
  {
   "cell_type": "code",
   "execution_count": null,
   "metadata": {},
   "outputs": [],
   "source": []
  }
 ],
 "metadata": {
  "kernelspec": {
   "display_name": "Python 3",
   "language": "python",
   "name": "python3"
  },
  "language_info": {
   "codemirror_mode": {
    "name": "ipython",
    "version": 3
   },
   "file_extension": ".py",
   "mimetype": "text/x-python",
   "name": "python",
   "nbconvert_exporter": "python",
   "pygments_lexer": "ipython3",
   "version": "3.7.4"
  }
 },
 "nbformat": 4,
 "nbformat_minor": 2
}
